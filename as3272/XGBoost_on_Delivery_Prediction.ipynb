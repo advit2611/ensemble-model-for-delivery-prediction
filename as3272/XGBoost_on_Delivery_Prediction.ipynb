{
  "cells": [
    {
      "cell_type": "code",
      "execution_count": null,
      "metadata": {
        "id": "e0_DwUSchE45"
      },
      "outputs": [],
      "source": [
        "import warnings\n",
        "warnings.simplefilter(action='ignore',category=FutureWarning)\n",
        "\n",
        "import pickle\n",
        "import pandas as pd\n",
        "import numpy as np\n",
        "import scipy.stats as stats\n",
        "import matplotlib.pyplot as plt\n",
        "from datetime import datetime as dt\n",
        "\n",
        "from sklearn.model_selection import train_test_split,KFold,cross_val_score\n",
        "from sklearn.decomposition import PCA\n",
        "from sklearn.preprocessing import StandardScaler,MinMaxScaler\n",
        "from sklearn.metrics import mean_squared_error, mean_absolute_error\n",
        "from sklearn.metrics import accuracy_score,roc_auc_score,log_loss\n",
        "from scipy import stats\n",
        "\n",
        "from flaml import AutoML\n",
        "from flaml.automl.model import XGBoostEstimator"
      ]
    },
    {
      "cell_type": "code",
      "execution_count": null,
      "metadata": {
        "id": "O80NBwfIhE45"
      },
      "outputs": [],
      "source": [
        "np.random.seed(42)"
      ]
    },
    {
      "cell_type": "code",
      "execution_count": null,
      "metadata": {
        "id": "xMAHkJg6hE45"
      },
      "outputs": [],
      "source": [
        "## NOTE that all feature engineering functions can be found in doordash_feature_eng.py\n",
        "train_df = pd.read_csv('train_df.csv')\n",
        "train_df = train_df.drop(columns=['Unnamed: 0','latest_update'])"
      ]
    },
    {
      "cell_type": "code",
      "execution_count": null,
      "metadata": {
        "id": "KHqQbkGLhE46"
      },
      "outputs": [],
      "source": [
        "def createBaseline(historical_data:pd.DataFrame) -> pd.DataFrame:\n",
        "    assert 'actual_total_delivery_duration' in historical_data.columns; 'Column actual_total_delivery_duration is not in the given DataFrame. Ensure that addFeatures_durations() was run on the provided DataFrame.'\n",
        "    try:\n",
        "        baseline_data = historical_data[['store_id','actual_total_delivery_duration']]\n",
        "        baseline_data = baseline_data.dropna()\n",
        "        baseline_data = pd.merge(\n",
        "            left=baseline_data,\n",
        "            right=baseline_data.groupby('store_id').actual_total_delivery_duration.aggregate([np.mean,np.std]),\n",
        "            how='inner',\n",
        "            on='store_id'\n",
        "        )\n",
        "        baseline_data['z-score'] = (baseline_data['actual_total_delivery_duration'] - baseline_data['mean']) / baseline_data['std']\n",
        "        baseline_data = baseline_data.loc[(baseline_data['z-score'] <=3) & (baseline_data['z-score'] >= -3)]\n",
        "        baseline_avgs = baseline_data.groupby('store_id').actual_total_delivery_duration.aggregate([np.mean])\n",
        "        baseline_data = pd.merge(\n",
        "            left=historical_data[['store_id','actual_total_delivery_duration']].dropna(),\n",
        "            right=baseline_avgs,\n",
        "            on='store_id'\n",
        "        )\n",
        "        baseline_MAE = mean_absolute_error(y_true=baseline_data['actual_total_delivery_duration'],y_pred=baseline_data['mean'])\n",
        "        baseline_RMSE = mean_squared_error(y_true=baseline_data['actual_total_delivery_duration'],y_pred=baseline_data['mean'],squared=False)\n",
        "    except Exception as ex:\n",
        "        raise ex\n",
        "    return {'baseline_MAE:':baseline_MAE,'baseline_RMSE:':baseline_RMSE}"
      ]
    },
    {
      "cell_type": "code",
      "execution_count": null,
      "metadata": {
        "id": "izG3bT_qhE46",
        "outputId": "40ea0797-b984-41fe-c4b8-29fe12c9c3ea"
      },
      "outputs": [
        {
          "data": {
            "text/plain": [
              "array([[<AxesSubplot:title={'center':'actual_total_delivery_duration'}>]],\n",
              "      dtype=object)"
            ]
          },
          "execution_count": 27,
          "metadata": {},
          "output_type": "execute_result"
        },
        {
          "data": {
            "image/png": "[encoded data removed]",
            "text/plain": [
              "<Figure size 640x480 with 1 Axes>"
            ]
          },
          "metadata": {},
          "output_type": "display_data"
        }
      ],
      "source": [
        "# What is the distribution of the actual_total_delivery_time values around the mean?\n",
        "x = train_df[['actual_total_delivery_duration']].apply(stats.zscore)\n",
        "x.hist(column='actual_total_delivery_duration',bins=25)"
      ]
    },
    {
      "cell_type": "code",
      "execution_count": null,
      "metadata": {
        "id": "tosbX27VhE46"
      },
      "outputs": [],
      "source": [
        "## feature selection/dimensionality reduction with PCA\n",
        "\n",
        "def build_train_test(dataset:pd.DataFrame,target_feature:str,test_size:int):\n",
        "    try:\n",
        "        X = dataset.drop(columns=target_feature)\n",
        "        y = dataset[target_feature]\n",
        "        x_train,x_test,y_train,y_test = train_test_split(X,y,test_size=test_size,random_state=42)\n",
        "        x_train,x_test = pd.DataFrame(x_train),pd.DataFrame(x_test)\n",
        "    except Exception as ex:\n",
        "        raise ex\n",
        "    return x_train,x_test,y_train,y_test\n",
        "\n",
        "def apply_standard_scaler(dataset):\n",
        "#applies the standard scaler to a single dataset\n",
        "    scaler = StandardScaler()\n",
        "    try:\n",
        "        if type(dataset) == pd.DataFrame:\n",
        "            scaler = scaler.fit(dataset.values)\n",
        "            dataset_scaled = scaler.transform(dataset.values)\n",
        "            dataset_scaled = pd.DataFrame(dataset_scaled,index=dataset.index,columns=dataset.columns)\n",
        "        else:\n",
        "            scaler = scaler.fit(dataset)\n",
        "            dataset_scaled = scaler.transform(dataset)\n",
        "            test_stdScale = scaler.transform(dataset)\n",
        "    except Exception as ex:\n",
        "        raise ex\n",
        "    return dataset_scaled,scaler\n",
        "\n",
        "def transform_rmse_to_seconds(scaler,y_test,y_hat_scaled):\n",
        "    try:\n",
        "        y_hat_descaled = scaler.inverse_transform(y_hat_scaled.reshape(-1,1))\n",
        "        rmse_descaled = mean_squared_error(y_pred=y_test,y_true=y_hat_descaled[:,0],squared=False)\n",
        "    except Exception as ex:\n",
        "        raise ex\n",
        "    return y_hat_descaled,rmse_descaled"
      ]
    },
    {
      "cell_type": "code",
      "execution_count": null,
      "metadata": {
        "id": "1LdR_fZOhE46"
      },
      "outputs": [],
      "source": [
        "def PCAcalc_expl_var(x_train,target_expl_variance:int):\n",
        "## returns the number of components required to explain the target_expl_variance\n",
        "# and a feature to component ratio to support automation of further dimensionality reduction\n",
        "    pca = PCA()\n",
        "    x_train_scaled = apply_standard_scaler(x_train)[0]\n",
        "    try:\n",
        "        pca = pca.fit(x_train_scaled)\n",
        "        components = np.cumsum(pca.explained_variance_ratio_)\n",
        "        components = [i for i in components if i <= target_expl_variance]\n",
        "        feature_to_component_ratio = len(components)/x_train.shape[1]\n",
        "    except Exception as ex:\n",
        "        raise ex\n",
        "    return components,feature_to_component_ratio\n",
        "\n",
        "def PCAcalc_dim_reduction(x_train,x_test,desired_components:int):\n",
        "## you know, dimensionality reduction\n",
        "    pca = PCA(n_components=desired_components)\n",
        "    x_train_scaled,x_test_scaled = apply_standard_scaler(x_train)[0],apply_standard_scaler(x_test)[0]\n",
        "    try:\n",
        "        pca = pca.fit(x_train_scaled)\n",
        "        x_train_pca,x_test_pca = pca.transform(x_train_scaled),pca.transform(x_test_scaled)\n",
        "    except Exception as ex:\n",
        "        raise ex\n",
        "    return x_train_pca,x_test_pca"
      ]
    },
    {
      "cell_type": "code",
      "execution_count": null,
      "metadata": {
        "id": "cDs9bofzhE47"
      },
      "outputs": [],
      "source": [
        "x_train,x_holdout,y_train,y_holdout = build_train_test(dataset=train_df,target_feature='actual_total_delivery_duration',test_size=0.2)"
      ]
    },
    {
      "cell_type": "code",
      "execution_count": null,
      "metadata": {
        "id": "J9nhBJFlhE47",
        "outputId": "0d807d70-d884-496b-85cb-f3f1874aba34"
      },
      "outputs": [
        {
          "name": "stdout",
          "output_type": "stream",
          "text": [
            "We need 97 features (out of 166 available) to explain 90 percent of the variance.\n"
          ]
        },
        {
          "data": {
            "image/png": "[encoded data removed]",
            "text/plain": [
              "<Figure size 640x480 with 1 Axes>"
            ]
          },
          "metadata": {},
          "output_type": "display_data"
        }
      ],
      "source": [
        "## how many features are needed to explain 90% of the variance?\n",
        "print(\"We need \" + str(len(PCAcalc_expl_var(x_train=x_train,target_expl_variance=0.9)[0])) + \" features (out of \" + str(x_train.shape[1]) + \" available) to explain 90 percent of the variance.\")\n",
        "\n",
        "x_train_scaled = apply_standard_scaler(x_train)[0]\n",
        "pca = PCA().fit(x_train_scaled)\n",
        "\n",
        "plt.plot(np.cumsum(pca.explained_variance_ratio_))\n",
        "plt.xlim(0,175,1)\n",
        "plt.xlabel('Number of components')\n",
        "plt.ylabel('Cumulative explained variance')\n",
        "plt.show()"
      ]
    },
    {
      "cell_type": "markdown",
      "metadata": {
        "id": "0CdW8irFhE47"
      },
      "source": [
        "#### Dimensionality reduction with PCA"
      ]
    },
    {
      "cell_type": "code",
      "execution_count": null,
      "metadata": {
        "id": "-BJ4vIMfhE47"
      },
      "outputs": [],
      "source": [
        "x_train_pca,x_test_pca = PCAcalc_dim_reduction(x_train=x_train,x_test=x_holdout,desired_components=len(PCAcalc_expl_var(x_train=x_train,target_expl_variance=0.9)[0]))"
      ]
    },
    {
      "cell_type": "markdown",
      "metadata": {
        "id": "0c6KLXeMhE47"
      },
      "source": [
        "### Model functions, model selection and first round results"
      ]
    },
    {
      "cell_type": "code",
      "execution_count": null,
      "metadata": {
        "id": "-Wl5T3v2hE47"
      },
      "outputs": [],
      "source": [
        "def ApplyMethod_autoML(x_train,x_test,y_train,y_test,time_budget=int,metric=str,estimator_list=list,task=str,run_cv=bool,cv_folds=int,file_path=str,model_name=str):\n",
        "    auto_ml = AutoML()\n",
        "    kf = KFold(n_splits=cv_folds,random_state=42,shuffle=True)\n",
        "    cv_scores = []\n",
        "## recall that the actual_total_delivery_time data is gamma distributed\n",
        "    class xgbGamma(XGBoostEstimator):\n",
        "        def __init__(self, task=\"regression\", **config):\n",
        "            super().__init__(objective='reg:gamma', **config)\n",
        "    auto_ml.add_learner(learner_name=\"xgb_gamma\",learner_class=xgbGamma)\n",
        "    try:\n",
        "        auto_ml.fit(X_train=x_train,y_train=y_train,time_budget=time_budget,metric=metric,estimator_list=estimator_list,task=task,seed=42,verbose=0)\n",
        "        trained_model = auto_ml\n",
        "        ## store the model\n",
        "        model_pickle = open(f'{file_path}/automl_{model_name}.pkl','wb')\n",
        "        pickle.dump(auto_ml.model,model_pickle,pickle.HIGHEST_PROTOCOL)\n",
        "        model_pickle.close()\n",
        "        ## feature importances\n",
        "        feature_importances_df = pd.DataFrame({'features':auto_ml.feature_names_in_,'importance':auto_ml.feature_importances_})\n",
        "        ## cross-validation\n",
        "        if run_cv == True:\n",
        "            model_count = 1\n",
        "            for train_index,test_index in kf.split(x_train):\n",
        "                cv_xtrain,cv_xtest = x_train.iloc[train_index],x_train.iloc[test_index]\n",
        "                cv_ytrain,cv_ytest = y_train.iloc[train_index],y_train.iloc[test_index]\n",
        "                auto_ml.fit(X_train=cv_xtrain,y_train=cv_ytrain,time_budget=time_budget,metric=metric,estimator_list=[str(trained_model.best_estimator)],task=task,seed=42,verbose=0)\n",
        "                ## predict, validate\n",
        "                cv_yhat = auto_ml.predict(cv_xtest)\n",
        "                if task == 'regression':\n",
        "                    rmse = mean_squared_error(y_true=cv_ytest,y_pred=cv_yhat,squared=False)\n",
        "                    cv_scores.append(rmse)\n",
        "                if task == 'classification':\n",
        "                    accuracy = accuracy_score(y_true=cv_ytest,y_pred=cv_yhat)\n",
        "                    cv_scores.append(accuracy)\n",
        "        if task == 'regression':\n",
        "        ## test error\n",
        "            y_hat_test = auto_ml.predict(x_test)\n",
        "            test_RMSE = mean_squared_error(y_true=y_test,y_pred=y_hat_test,squared=False)\n",
        "            test_MAE = mean_absolute_error(y_true=y_test,y_pred=y_hat_test)\n",
        "            ## feature importances\n",
        "            ## train error\n",
        "            y_hat_train = auto_ml.predict(x_train)\n",
        "            train_RMSE = mean_squared_error(y_true=y_train,y_pred=y_hat_train,squared=False)\n",
        "            train_MAE = mean_absolute_error(y_true=y_train,y_pred=y_hat_train)\n",
        "            eval_stats = {\n",
        "                'train_RMSE:':train_RMSE,\n",
        "                # gives context to the RMSE; the lower the ratio the better\n",
        "                'train_RMSE_to_std_ratio':train_RMSE / (np.std(y_train)),\n",
        "                'train_MAE:':train_MAE,\n",
        "                'test_RMSE:':test_RMSE,\n",
        "                # gives context to the RMSE; the lower the ratio the better\n",
        "                'test_RMSE_to_std_ratio':test_RMSE / (np.std(y_test)),\n",
        "                'test_MAE:':test_MAE\n",
        "            }\n",
        "        if task == 'classification':\n",
        "            y_hat_test = auto_ml.predict(x_test)\n",
        "            y_hat_test_proba = auto_ml.predict_proba(x_test)\n",
        "            y_hat_train = auto_ml.predict(x_train)\n",
        "            y_hat_train_proba = auto_ml.predict_proba(x_train)\n",
        "            eval_stats = {\n",
        "                'train_accuracy': accuracy_score(y_true=y_train,y_pred=y_hat_train),\n",
        "                'train_roc_auc': roc_auc_score(y_true=y_train,y_score=y_hat_train_proba[:,1]),\n",
        "                'test_accuracy': accuracy_score(y_true=y_test,y_pred=y_hat_test),\n",
        "                'test_roc_auc': roc_auc_score(y_true=y_test,y_score=y_hat_test_proba[:,1])\n",
        "            }\n",
        "    except Exception as ex:\n",
        "        raise ex\n",
        "    return trained_model,feature_importances_df.sort_values(by='importance',ascending=False),eval_stats,cv_scores"
      ]
    },
    {
      "cell_type": "code",
      "execution_count": null,
      "metadata": {
        "id": "HCxmRbR_hE48",
        "outputId": "3828a802-e845-4077-d4f4-758e0b4f2170"
      },
      "outputs": [
        {
          "data": {
            "text/plain": [
              "{'train_RMSE:': 922.044768243236,\n",
              " 'train_RMSE_to_std_ratio': 0.7988714697866253,\n",
              " 'train_MAE:': 612.6975717392198,\n",
              " 'test_RMSE:': 1194.7149190518521,\n",
              " 'test_RMSE_to_std_ratio': 1.0702272444393133,\n",
              " 'test_MAE:': 905.0272597795322}"
            ]
          },
          "execution_count": 47,
          "metadata": {},
          "output_type": "execute_result"
        }
      ],
      "source": [
        "pca_regressions = ApplyMethod_autoML(\n",
        "    x_train=x_train_pca,\n",
        "    x_test=x_test_pca,\n",
        "    y_train=y_train,\n",
        "    y_test=y_holdout,\n",
        "    time_budget=400,\n",
        "    metric='mse',\n",
        "    estimator_list=['xgb_gamma','xgboost','xgb_limitdepth'],\n",
        "    task='regression',\n",
        "    run_cv=False,\n",
        "    cv_folds=5,\n",
        "    file_path='singleModel_noSplit_pickles',\n",
        "    model_name='xgbregression_pca'\n",
        "    )\n",
        "pca_regressions[2]"
      ]
    },
    {
      "cell_type": "code",
      "execution_count": null,
      "metadata": {
        "id": "5A_1rEm6hE48",
        "outputId": "51cb35ff-bcf0-48aa-f0dc-1c66630819d7"
      },
      "outputs": [
        {
          "name": "stderr",
          "output_type": "stream",
          "text": [
            "\n",
            "check Spark installation...This line should appear only once.\n",
            "\n",
            "use_spark=True requires installation of PySpark. Please run pip install flaml[spark]\n",
            "        and check [here](https://spark.apache.org/docs/latest/api/python/getting_started/install.html)\n",
            "        for more details about installing Spark.\n"
          ]
        },
        {
          "data": {
            "text/plain": [
              "{'train_RMSE:': 721.3968731672105,\n",
              " 'train_RMSE_to_std_ratio': 0.6250275477020395,\n",
              " 'train_MAE:': 513.6525913271923,\n",
              " 'test_RMSE:': 833.177098601647,\n",
              " 'test_RMSE_to_std_ratio': 0.746361174659176,\n",
              " 'test_MAE:': 557.4898258667698}"
            ]
          },
          "execution_count": 31,
          "metadata": {},
          "output_type": "execute_result"
        }
      ],
      "source": [
        "auto_xgb_no_reduction = ApplyMethod_autoML(\n",
        "    x_train=x_train,\n",
        "    x_test=x_holdout,\n",
        "    y_train=y_train,\n",
        "    y_test=y_holdout,\n",
        "    time_budget=400,\n",
        "    metric='mse',\n",
        "    estimator_list=['xgb_gamma','xgboost','xgb_limitdepth'],\n",
        "    task='regression',\n",
        "    run_cv=False,\n",
        "    cv_folds=5,\n",
        "    file_path='singleModel_noSplit_pickles',\n",
        "    model_name='xgbreg_all_features'\n",
        ")\n",
        "auto_xgb_no_reduction[2]"
      ]
    },
    {
      "cell_type": "code",
      "execution_count": null,
      "metadata": {
        "id": "Rwfg5BjNhE48",
        "outputId": "f597c941-f728-44e1-c670-7841063109b0"
      },
      "outputs": [
        {
          "name": "stdout",
          "output_type": "stream",
          "text": [
            "Cross-validation results (RMSE): \n",
            "[928.0659595118198, 866.9700127007313, 861.5295421654322, 927.3771927147455, 899.9744304738704]\n",
            "Mean of cross-validation results (RMSE): 896.7834275133198\n",
            "Best estimator: xgb_limitdepth\n",
            "Best configuration: \n",
            "{'n_estimators': 1028, 'max_depth': 6, 'min_child_weight': 1.4640336660392816, 'learning_rate': 0.02159558962109372, 'subsample': 0.8640052147174596, 'colsample_bylevel': 0.8726369812699186, 'colsample_bytree': 0.9407746256493329, 'reg_alpha': 0.0009765625, 'reg_lambda': 13.44701768864806}\n"
          ]
        }
      ],
      "source": [
        "print(\"Cross-validation results (RMSE): \")\n",
        "print(auto_xgb_no_reduction[3])\n",
        "print(\"Mean of cross-validation results (RMSE): \" + str(np.mean(auto_xgb_no_reduction[3])))\n",
        "print(\"Best estimator: \" + auto_xgb_no_reduction[0].best_estimator)\n",
        "print(\"Best configuration: \")\n",
        "print(auto_xgb_no_reduction[0].best_config)"
      ]
    },
    {
      "cell_type": "code",
      "execution_count": null,
      "metadata": {
        "id": "udzBo70bhE48",
        "outputId": "33077694-4d5a-4ce3-e93c-c88dff5f38ae"
      },
      "outputs": [
        {
          "data": {
            "text/html": [
              "<div>\n",
              "<style scoped>\n",
              "    .dataframe tbody tr th:only-of-type {\n",
              "        vertical-align: middle;\n",
              "    }\n",
              "\n",
              "    .dataframe tbody tr th {\n",
              "        vertical-align: top;\n",
              "    }\n",
              "\n",
              "    .dataframe thead th {\n",
              "        text-align: right;\n",
              "    }\n",
              "</style>\n",
              "<table border=\"1\" class=\"dataframe\">\n",
              "  <thead>\n",
              "    <tr style=\"text-align: right;\">\n",
              "      <th></th>\n",
              "      <th>features</th>\n",
              "      <th>importance</th>\n",
              "    </tr>\n",
              "  </thead>\n",
              "  <tbody>\n",
              "    <tr>\n",
              "      <th>16</th>\n",
              "      <td>onshift_to_outstanding</td>\n",
              "      <td>0.082321</td>\n",
              "    </tr>\n",
              "    <tr>\n",
              "      <th>53</th>\n",
              "      <td>store_day_median_total_prep_time</td>\n",
              "      <td>0.054282</td>\n",
              "    </tr>\n",
              "    <tr>\n",
              "      <th>21</th>\n",
              "      <td>hour_mean_total_onshift_dashers</td>\n",
              "      <td>0.050517</td>\n",
              "    </tr>\n",
              "    <tr>\n",
              "      <th>20</th>\n",
              "      <td>hour_mean_total_outstanding_orders</td>\n",
              "      <td>0.032606</td>\n",
              "    </tr>\n",
              "    <tr>\n",
              "      <th>10</th>\n",
              "      <td>est_time_non-prep</td>\n",
              "      <td>0.031837</td>\n",
              "    </tr>\n",
              "    <tr>\n",
              "      <th>15</th>\n",
              "      <td>busy_to_outstanding</td>\n",
              "      <td>0.024344</td>\n",
              "    </tr>\n",
              "    <tr>\n",
              "      <th>49</th>\n",
              "      <td>store_day_of_week_est_time_prep_per_item_mean</td>\n",
              "      <td>0.023995</td>\n",
              "    </tr>\n",
              "    <tr>\n",
              "      <th>22</th>\n",
              "      <td>hour_mean_total_busy_dashers</td>\n",
              "      <td>0.023908</td>\n",
              "    </tr>\n",
              "    <tr>\n",
              "      <th>156</th>\n",
              "      <td>created_day_of_week__0</td>\n",
              "      <td>0.020687</td>\n",
              "    </tr>\n",
              "    <tr>\n",
              "      <th>31</th>\n",
              "      <td>hour_busy_outs_avg</td>\n",
              "      <td>0.019230</td>\n",
              "    </tr>\n",
              "  </tbody>\n",
              "</table>\n",
              "</div>"
            ],
            "text/plain": [
              "                                          features  importance\n",
              "16                          onshift_to_outstanding    0.082321\n",
              "53                store_day_median_total_prep_time    0.054282\n",
              "21                 hour_mean_total_onshift_dashers    0.050517\n",
              "20              hour_mean_total_outstanding_orders    0.032606\n",
              "10                               est_time_non-prep    0.031837\n",
              "15                             busy_to_outstanding    0.024344\n",
              "49   store_day_of_week_est_time_prep_per_item_mean    0.023995\n",
              "22                    hour_mean_total_busy_dashers    0.023908\n",
              "156                         created_day_of_week__0    0.020687\n",
              "31                              hour_busy_outs_avg    0.019230"
            ]
          },
          "execution_count": 36,
          "metadata": {},
          "output_type": "execute_result"
        }
      ],
      "source": [
        "auto_xgb_no_reduction[1].sort_values(by='importance',ascending=False).head(10)"
      ]
    },
    {
      "cell_type": "code",
      "execution_count": null,
      "metadata": {
        "id": "AsQbvcAxhE48",
        "outputId": "7546c226-7ef3-48df-fa36-01a168cbd770"
      },
      "outputs": [
        {
          "data": {
            "text/plain": [
              "{'train_RMSE:': 755.9607139874619,\n",
              " 'train_RMSE_to_std_ratio': 0.6549741048200352,\n",
              " 'train_MAE:': 534.3812971371257,\n",
              " 'test_RMSE:': 845.7946618754502,\n",
              " 'test_RMSE_to_std_ratio': 0.7576640049484116,\n",
              " 'test_MAE:': 565.5202886412139}"
            ]
          },
          "execution_count": 42,
          "metadata": {},
          "output_type": "execute_result"
        }
      ],
      "source": [
        "top_features = auto_xgb_no_reduction[1]['features'][:97].to_list()\n",
        "\n",
        "auto_xgb_top_features = ApplyMethod_autoML(\n",
        "    x_train=x_train[top_features],\n",
        "    x_test=x_holdout[top_features],\n",
        "    y_train=y_train,\n",
        "    y_test=y_holdout,\n",
        "    time_budget=400,\n",
        "    metric='mse',\n",
        "    estimator_list=['xgb_gamma','xgboost','xgb_limitdepth'],\n",
        "    task='regression',\n",
        "    run_cv=False,\n",
        "    cv_folds=5,\n",
        "    file_path='singleModel_noSplit_pickles',\n",
        "    model_name='xgbreg_top_thirtyfive_features'\n",
        ")\n",
        "auto_xgb_top_features[2]"
      ]
    },
    {
      "cell_type": "code",
      "execution_count": null,
      "metadata": {
        "id": "KEL7p3fqhE48",
        "outputId": "88d04a9a-6b58-468c-e84b-48c3c81f9627"
      },
      "outputs": [
        {
          "data": {
            "text/plain": [
              "{'baseline_MAE:': 783.5442750429107, 'baseline_RMSE:': 19249.89784985233}"
            ]
          },
          "execution_count": 136,
          "metadata": {},
          "output_type": "execute_result"
        }
      ],
      "source": [
        "# does the first attempt at modeling improve on a baseline, average-derived model?\n",
        "createBaseline(historical_data=train_df)"
      ]
    },
    {
      "cell_type": "markdown",
      "metadata": {
        "id": "ksJVDKYqhE48"
      },
      "source": [
        "### Results so far\n",
        "\n",
        "\n",
        "Performance statistics for my xgboost model against a holdout sample size of 0.2 are as follows:\n",
        "\n",
        "    {'train_RMSE:': 775.2071297497488,\n",
        "    'train_RMSE_to_std_ratio': 0.6716494474690015,\n",
        "    'train_MAE:': 533.3797480868415,\n",
        "    'test_RMSE:': 838.6686685160196,\n",
        "    'test_RMSE_to_std_ratio': 0.7512805304346684,\n",
        "    'test_MAE:': 559.3233676640386}\n",
        "\n",
        "Cross-validation results (RMSE):\n",
        "\n",
        "    [928.0659595118198, 866.9700127007313, 861.5295421654322, 927.3771927147455, 899.9744304738704]\n",
        "\n",
        "Mean of cross-validation results (RMSE):\n",
        "\n",
        "    896.7834275133198\n",
        "\n",
        "Performance statistics for my xgboost model against a holdout size of 0.33:\n",
        "\n",
        "    {'train_RMSE:': 873.4991,\n",
        "    'train_RMSE_to_std_ratio': 0.7611590838185001,\n",
        "    'train_MAE:': 581.7427,\n",
        "    'test_RMSE:': 926.9857,\n",
        "    'test_RMSE_to_std_ratio': 0.7968259664464706,\n",
        "    'test_MAE:': 605.92535}"
      ]
    },
    {
      "cell_type": "markdown",
      "metadata": {
        "id": "PZiWs8arhE4-"
      },
      "source": [
        "Holdout, train scores:\n",
        "\n",
        "    {'train_RMSE:': 629.4737460788326,\n",
        "    'train_RMSE_to_std_ratio': 0.5453841657604123,\n",
        "    'train_MAE:': 455.779582570263,\n",
        "    'test_RMSE:': 849.1551127581309,\n",
        "    'test_RMSE_to_std_ratio': 0.7606743014056613,\n",
        "    'test_MAE:': 557.112726920179}\n",
        "\n",
        "cv RMSE scores:\n",
        "\n",
        "    [684.0892768296953, 681.0979618118614, 677.0700958150553, 699.8305918514759, 691.835106692473]\n",
        "\n",
        "Mean RMSE from cv:\n",
        "\n",
        "    686.7846066001122\n",
        "\n",
        "cv RMSE to y-true std:\n",
        "\n",
        "    0.7761858125345661"
      ]
    }
  ],
  "metadata": {
    "kernelspec": {
      "display_name": "Python 3.9.7 ('base')",
      "language": "python",
      "name": "python3"
    },
    "language_info": {
      "codemirror_mode": {
        "name": "ipython",
        "version": 3
      },
      "file_extension": ".py",
      "mimetype": "text/x-python",
      "name": "python",
      "nbconvert_exporter": "python",
      "pygments_lexer": "ipython3",
      "version": "3.9.15"
    },
    "orig_nbformat": 4,
    "vscode": {
      "interpreter": {
        "hash": "96d1af5f869624c072d9e03e4f7fcffed44526ca720f1a36a76cd678c41e0e80"
      }
    },
    "colab": {
      "provenance": []
    }
  },
  "nbformat": 4,
  "nbformat_minor": 0
}